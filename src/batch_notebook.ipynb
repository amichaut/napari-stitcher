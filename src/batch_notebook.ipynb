{
 "cells": [
  {
   "cell_type": "code",
   "execution_count": 1,
   "metadata": {},
   "outputs": [],
   "source": [
    "import sys\n",
    "import os, tempfile\n",
    "import os.path as osp\n",
    "\n",
    "import numpy as np\n",
    "from ipyfilechooser import FileChooser\n",
    "from IPython.display import Markdown\n",
    "import ipywidgets as widgets\n",
    "from pathlib import Path\n",
    "import xarray as xr\n",
    "import ngff_zarr\n",
    "import dask.diagnostics\n",
    "from tqdm import tqdm\n",
    "from glob import glob\n",
    "\n",
    "from multiview_stitcher import (\n",
    "    registration,\n",
    "    fusion,\n",
    "    msi_utils,\n",
    "    io,\n",
    "    mv_graph,\n",
    "    vis_utils,\n",
    "    msi_utils,\n",
    "    ngff_utils,\n",
    "    transformation,\n",
    "    spatial_image_utils,\n",
    ")\n",
    "\n",
    "from napari_stitcher import (  # remove\n",
    "    viewer_utils\n",
    ")\n",
    "\n",
    "def printmd(string):\n",
    "    display(Markdown(string))"
   ]
  },
  {
   "cell_type": "code",
   "execution_count": 2,
   "metadata": {},
   "outputs": [
    {
     "data": {
      "text/markdown": [
       "**Choose a folder containing only the files you want to register**"
      ],
      "text/plain": [
       "<IPython.core.display.Markdown object>"
      ]
     },
     "metadata": {},
     "output_type": "display_data"
    },
    {
     "data": {
      "application/vnd.jupyter.widget-view+json": {
       "model_id": "ae0ea92cdc2f4c52bd871ba788ba3a2f",
       "version_major": 2,
       "version_minor": 0
      },
      "text/plain": [
       "FileChooser(path='/Users/amichaut/Desktop/nap-stitch', filename='', title='', show_hidden=False, select_desc='…"
      ]
     },
     "metadata": {},
     "output_type": "display_data"
    },
    {
     "data": {
      "text/markdown": [
       "**Choose file format**"
      ],
      "text/plain": [
       "<IPython.core.display.Markdown object>"
      ]
     },
     "metadata": {},
     "output_type": "display_data"
    },
    {
     "data": {
      "application/vnd.jupyter.widget-view+json": {
       "model_id": "8727db8883194d7da1fad4f937a05ed3",
       "version_major": 2,
       "version_minor": 0
      },
      "text/plain": [
       "Text(value='.czi', description='File format:', placeholder='Type file format')"
      ]
     },
     "metadata": {},
     "output_type": "display_data"
    },
    {
     "data": {
      "text/markdown": [
       "**Filter files**"
      ],
      "text/plain": [
       "<IPython.core.display.Markdown object>"
      ]
     },
     "metadata": {},
     "output_type": "display_data"
    },
    {
     "data": {
      "application/vnd.jupyter.widget-view+json": {
       "model_id": "f88ea190c5b647578eb2db427b1b5276",
       "version_major": 2,
       "version_minor": 0
      },
      "text/plain": [
       "Text(value='', description='Filter by:', placeholder='Type in filter')"
      ]
     },
     "metadata": {},
     "output_type": "display_data"
    }
   ],
   "source": [
    "# browse file system to dataset folder\n",
    "printmd(\"**Choose a folder containing only the files you want to register**\")\n",
    "\n",
    "fc = FileChooser()\n",
    "fc.use_dir_icons = True\n",
    "display(fc)\n",
    "\n",
    "printmd(\"**Choose file format**\")\n",
    "format_wid = widgets.Text(value='.czi',placeholder='Type file format',description='File format:')\n",
    "display(format_wid)\n",
    "\n",
    "printmd(\"**Filter files**\")\n",
    "filter_wid = widgets.Text(value='',placeholder='Type in filter',description='Filter by:')\n",
    "display(filter_wid)"
   ]
  },
  {
   "cell_type": "code",
   "execution_count": 3,
   "metadata": {},
   "outputs": [
    {
     "data": {
      "text/markdown": [
       "**List of files (you can unselect them)**"
      ],
      "text/plain": [
       "<IPython.core.display.Markdown object>"
      ]
     },
     "metadata": {},
     "output_type": "display_data"
    },
    {
     "data": {
      "application/vnd.jupyter.widget-view+json": {
       "model_id": "eb309f250c4f4e68894e9adda69fa7a1",
       "version_major": 2,
       "version_minor": 0
      },
      "text/plain": [
       "SelectMultiple(description='File list', index=(0, 1), layout=Layout(width='initial'), options=('/Users/amichau…"
      ]
     },
     "metadata": {},
     "output_type": "display_data"
    },
    {
     "data": {
      "text/markdown": [
       "**Output filename for concatenated movies or file ending for multiple files**"
      ],
      "text/plain": [
       "<IPython.core.display.Markdown object>"
      ]
     },
     "metadata": {},
     "output_type": "display_data"
    },
    {
     "data": {
      "application/vnd.jupyter.widget-view+json": {
       "model_id": "f55765fb441d4dad978b1e87af1b229e",
       "version_major": 2,
       "version_minor": 0
      },
      "text/plain": [
       "Text(value='_stitched.tif', description='Filename:')"
      ]
     },
     "metadata": {},
     "output_type": "display_data"
    }
   ],
   "source": [
    "# filter files\n",
    "file_format = format_wid.value\n",
    "file_filter = filter_wid.value\n",
    "\n",
    "# get all full path of files in chosen folder\n",
    "datadir = fc.selected_path  # chosen foder\n",
    "file_list = os.listdir(datadir)  # list directory\n",
    "path_list = [osp.join(datadir,fn) for fn in file_list]  # full path list\n",
    "path_list = [fn for fn in path_list if not osp.isdir(fn)]  # keep only files\n",
    "if len(file_format) > 0:\n",
    "    path_list = [fn for fn in path_list if fn.endswith(file_format)]  # filter by file format\n",
    "if len(file_filter) > 0:\n",
    "    path_list = [fn for fn in path_list if file_filter in fn]  # filter by file format\n",
    "path_list.sort()\n",
    "\n",
    "printmd(\"**List of files (you can unselect them)**\")\n",
    "file_list_wid = widgets.SelectMultiple(options=path_list,value=path_list,description=\"File list\",layout={'width': 'initial'})\n",
    "display(file_list_wid)\n",
    "\n",
    "printmd(\"**Output filename for concatenated movies or file ending for multiple files**\")\n",
    "out_fn_wid = widgets.Text(value='_stitched.tif',description='Filename:')\n",
    "display(out_fn_wid)"
   ]
  },
  {
   "cell_type": "markdown",
   "metadata": {
    "jp-MarkdownHeadingCollapsed": true
   },
   "source": [
    "## To batch register files independently"
   ]
  },
  {
   "cell_type": "code",
   "execution_count": null,
   "metadata": {},
   "outputs": [],
   "source": [
    "reg_channel_index = 0\n",
    "\n",
    "# process all files \n",
    "for i,fn in enumerate(file_list_wid.value): \n",
    "    print(\"processing {} ({}/{})\".format(fn,i+1,len(file_list_wid.value)))\n",
    "\n",
    "    msims = [msi_utils.get_msim_from_sim(sim, scale_factors=[])\n",
    "             for sim in io.read_mosaic_image_into_list_of_spatial_xarrays(fn, scene_index=0)]\n",
    "\n",
    "    # register data\n",
    "    temp_dir = tempfile.TemporaryDirectory(dir=datadir)\n",
    "    with dask.diagnostics.ProgressBar():\n",
    "\n",
    "        params = registration.register(\n",
    "            msims,\n",
    "            transform_key=io.METADATA_TRANSFORM_KEY,\n",
    "            new_transform_key='affine_registered',\n",
    "            reg_channel_index=reg_channel_index,\n",
    "            pre_registration_pruning_method='keep_axis_aligned',  # to get from user parameter \n",
    "            registration_binning={'y': 1, 'x': 1},  # to get from user parameter \n",
    "            post_registration_do_quality_filter=True,\n",
    "            post_registration_quality_threshold=0.2,\n",
    "        )\n",
    "\n",
    "        fused_sim = fusion.fuse(\n",
    "            [msi_utils.get_sim_from_msim(msim) for msim in msims],\n",
    "            transform_key='affine_registered',\n",
    "            #output_chunksize=256,\n",
    "            )\n",
    "\n",
    "        fused_ngff_multiscales = ngff_zarr.to_multiscales(\n",
    "            ngff_utils.sim_to_ngff_image(\n",
    "                fused_sim,\n",
    "                transform_key='affine_registered'),\n",
    "                scale_factors=[])\n",
    "\n",
    "        output_filename = osp.join(temp_dir.name,'stitched.zarr')\n",
    "        print(f'Fusing views and saving output to {output_filename}...')\n",
    "        ngff_zarr.to_ngff_zarr(\n",
    "            output_filename,\n",
    "            fused_ngff_multiscales,\n",
    "            )\n",
    "\n",
    "        mfused = ngff_utils.ngff_multiscales_to_msim(\n",
    "            ngff_zarr.from_ngff_zarr(output_filename),\n",
    "            transform_key='affine_registered')\n",
    "\n",
    "        output_stitched_fn = fn[:-4]+out_fn_wid.value\n",
    "        print(f'Streaming into {output_stitched_fn}...')\n",
    "        io.save_sim_as_tif(\n",
    "            output_stitched_fn,\n",
    "            msi_utils.get_sim_from_msim(mfused))\n",
    "\n",
    "    # delete zarr files\n",
    "    temp_dir.cleanup()"
   ]
  },
  {
   "cell_type": "markdown",
   "metadata": {},
   "source": [
    "## To concatenate and register files together"
   ]
  },
  {
   "cell_type": "code",
   "execution_count": 4,
   "metadata": {},
   "outputs": [
    {
     "name": "stdout",
     "output_type": "stream",
     "text": [
      "Output file:  /Users/amichaut/Desktop/temp/all_stitched.tif\n",
      "Concatenating:  ('/Users/amichaut/Desktop/temp/10_stalling_e3_5X_max.czi', '/Users/amichaut/Desktop/temp/11_stalling_e3_5X_max.czi')\n"
     ]
    },
    {
     "name": "stderr",
     "output_type": "stream",
     "text": [
      "/var/folders/7m/w68wq4ns2qqfjzx4jtn4lt640000gn/T/ipykernel_88158/3295729759.py:17: DeprecationWarning: read_mosaic_image_into_list_of_spatial_xarrays is deprecated. Use read_mosaic_into_sims instead.\n",
      "  sims = io.read_mosaic_image_into_list_of_spatial_xarrays(filename, scene_index=0)\n",
      "/var/folders/7m/w68wq4ns2qqfjzx4jtn4lt640000gn/T/ipykernel_88158/3295729759.py:17: DeprecationWarning: read_mosaic_image_into_list_of_spatial_xarrays is deprecated. Use read_mosaic_into_sims instead.\n",
      "  sims = io.read_mosaic_image_into_list_of_spatial_xarrays(filename, scene_index=0)\n"
     ]
    },
    {
     "name": "stdout",
     "output_type": "stream",
     "text": [
      "Convert input into chunked zarr arrays...\n",
      "100%|\u001b[32m█████████████████████████████████████████████\u001b[0m| 9/9 [07:39<00:00, 51.06s/it]\u001b[0m\n"
     ]
    }
   ],
   "source": [
    "reg_channel_index = 1\n",
    "\n",
    "# output file\n",
    "output_tif = osp.join(datadir,out_fn_wid.value)  # type in the output file\n",
    "print(\"Output file: \",output_tif)\n",
    "temp_dir = tempfile.TemporaryDirectory(dir=datadir)\n",
    "output_filename = Path(osp.join(temp_dir.name,'concat'))\n",
    "\n",
    "# concatenate files together\n",
    "print(\"Concatenating: \",file_list_wid.value)\n",
    "\n",
    "#### change here to fix a dataset-specific bug/ to return to the normal behavior, uncomment the next line and comment the following block\n",
    "#simss = [io.read_mosaic_image_into_list_of_spatial_xarrays(filename, scene_index=0) for filename in file_list_wid.value]\n",
    "### comment the block below to restore the normal behavior\n",
    "simss = []\n",
    "for filename in file_list_wid.value:\n",
    "    sims = io.read_mosaic_image_into_list_of_spatial_xarrays(filename, scene_index=0)\n",
    "    ## move tile tiles 2 and 3 up by 70 pixels\n",
    "    #for itile in [2, 3]:\n",
    "    #   sims[itile] = sims[itile].assign_coords(y= sims[itile].y.values + spatial_image_utils.get_spacing_from_sim(sims[itile])['y'] * 70)\n",
    "    simss.append(sims)\n",
    " \n",
    "# transform all input files so that they have the same stack properties (spacing, shape, origin) of the first file\n",
    "simss = [[\n",
    "    # transformation.transform_sim(\n",
    "    fusion.fuse(\n",
    "    [simss[iseq][itile]],\n",
    "    transform_key=io.METADATA_TRANSFORM_KEY,\n",
    "    output_stack_properties=spatial_image_utils.get_stack_properties_from_sim(simss[0][itile]))\n",
    "        for itile in range(len(simss[0]))]\n",
    "        for iseq in range(len(simss))]\n",
    "\n",
    "sims = [xr.concat([simss[iseq][itile] for iseq in range(len(simss))], dim='t') for itile in range(len(simss[0]))]\n",
    "sims = [sim.assign_coords({'t': range(len(sim.coords['t']))}) for sim in sims]\n",
    "\n",
    "# # restrict time points for testing\n",
    "# sims = [si_utils.sim_sel_coords(sim, {'t': slice(0, 3)}) for sim in sims]\n",
    "\n",
    "# bin input\n",
    "#sims = [sim.coarsen({'x': 2, 'y': 2}, boundary='trim').mean().astype(sim.data.dtype) for sim in sims]\n",
    "\n",
    "#for itile in range(len(sims[:])):\n",
    "#    sims[itile].attrs['transforms']['affine_metadata'] = \\\n",
    "#        xr.concat([sims[itile].attrs['transforms']['affine_metadata'][0]] * len(sims[0].coords['t']), dim='t')\n",
    "\n",
    "print('Convert input into chunked zarr arrays...')\n",
    "msims = [msi_utils.get_store_decorator(\n",
    "    output_filename.with_suffix('.tile%03d.zarr' %isim), store_overwrite=True)(\n",
    "        msi_utils.get_msim_from_sim)(sim, [])\n",
    "    for isim, sim in tqdm(enumerate(sims), total=len(sims),colour=\"green\",file=sys.stdout,)]"
   ]
  },
  {
   "cell_type": "code",
   "execution_count": 5,
   "metadata": {},
   "outputs": [
    {
     "name": "stdout",
     "output_type": "stream",
     "text": [
      "Registering...\n",
      "[########################################] | 100% Completed | 3.60 ss\n",
      "[########################################] | 100% Completed | 196.12 s\n"
     ]
    }
   ],
   "source": [
    "# perform registration\n",
    "# below you can change the registration binning\n",
    "\n",
    "print('Registering...')\n",
    "with dask.diagnostics.ProgressBar():\n",
    "    params = registration.register(\n",
    "        msims[:],\n",
    "        transform_key='affine_metadata',\n",
    "        new_transform_key='affine_registered',\n",
    "        pre_registration_pruning_method='keep_axis_aligned',  # to get from user parameter \n",
    "        reg_channel_index=reg_channel_index,  # to get from user parameter \n",
    "        registration_binning={'y': 1, 'x': 1},  # to get from user parameter \n",
    "        )\n",
    "\n",
    "for msim, param in zip(msims, params):\n",
    "    msi_utils.set_affine_transform(msim, param, transform_key='affine_registered', base_transform_key='affine_metadata')"
   ]
  },
  {
   "cell_type": "code",
   "execution_count": 6,
   "metadata": {},
   "outputs": [
    {
     "name": "stdout",
     "output_type": "stream",
     "text": [
      "Creating fusion graph...\n",
      "Creating multiscale output OME-Zarr...\n",
      "[########################################] | 100% Completed | 323.11 s\n"
     ]
    }
   ],
   "source": [
    "# perform the fusion\n",
    "\n",
    "print('Creating fusion graph...')\n",
    "with dask.diagnostics.ProgressBar():\n",
    "    fused = fusion.fuse(\n",
    "        [msi_utils.get_sim_from_msim(msim) for msim in msims],\n",
    "        transform_key='affine_registered',\n",
    "        output_chunksize=1024,\n",
    "        )\n",
    "\n",
    "print('Creating multiscale output OME-Zarr...')\n",
    "with dask.diagnostics.ProgressBar():\n",
    "    mfused = msi_utils.get_msim_from_sim(fused, scale_factors=[])\n",
    "    mfused.to_zarr(output_filename)\n",
    "\n",
    "mfused = msi_utils.multiscale_spatial_image_from_zarr(output_filename)"
   ]
  },
  {
   "cell_type": "code",
   "execution_count": 7,
   "metadata": {},
   "outputs": [
    {
     "name": "stdout",
     "output_type": "stream",
     "text": [
      "Saving to tif...\n"
     ]
    },
    {
     "name": "stderr",
     "output_type": "stream",
     "text": [
      "100%|█████████████████████████████████████████| 306/306 [00:10<00:00, 28.69it/s]\n"
     ]
    }
   ],
   "source": [
    "# save fused output as tif file\n",
    "print('Saving to tif...')\n",
    "io.save_sim_as_tif(output_tif, mfused['scale0/image'])\n"
   ]
  },
  {
   "cell_type": "code",
   "execution_count": 18,
   "metadata": {},
   "outputs": [],
   "source": [
    "# delete zarr files\n",
    "temp_dir.cleanup()"
   ]
  },
  {
   "cell_type": "code",
   "execution_count": 4,
   "metadata": {
    "collapsed": true,
    "jupyter": {
     "outputs_hidden": true
    }
   },
   "outputs": [
    {
     "name": "stdout",
     "output_type": "stream",
     "text": [
      "Output file:  /Users/amichaut/Desktop/20241108_no-epiboly/20X/new_e4_stitched.tif\n",
      "Concatenating:  ('/Users/amichaut/Desktop/20241108_no-epiboly/20X/04_post-t1-20X_max-Scene-2-e4.czi', '/Users/amichaut/Desktop/20241108_no-epiboly/20X/05_post-t1-20X_max-Scene-2-e4.czi', '/Users/amichaut/Desktop/20241108_no-epiboly/20X/07_post-t2-20X_max-Scene-2-e4.czi')\n"
     ]
    },
    {
     "ename": "RuntimeError",
     "evalue": "affine matrix has wrong number of rows",
     "output_type": "error",
     "traceback": [
      "\u001b[0;31m---------------------------------------------------------------------------\u001b[0m",
      "\u001b[0;31mRuntimeError\u001b[0m                              Traceback (most recent call last)",
      "Cell \u001b[0;32mIn[4], line 22\u001b[0m\n\u001b[1;32m     19\u001b[0m simss\u001b[38;5;241m.\u001b[39mappend(sims)\n\u001b[1;32m     21\u001b[0m \u001b[38;5;66;03m# transform all input files so that they have the same stack properties (spacing, shape, origin) of the first file\u001b[39;00m\n\u001b[0;32m---> 22\u001b[0m simss \u001b[38;5;241m=\u001b[39m [[transformation\u001b[38;5;241m.\u001b[39mtransform_sim(\n\u001b[1;32m     23\u001b[0m     simss[iseq][itile],\n\u001b[1;32m     24\u001b[0m     output_stack_properties\u001b[38;5;241m=\u001b[39mspatial_image_utils\u001b[38;5;241m.\u001b[39mget_stack_properties_from_sim(simss[\u001b[38;5;241m0\u001b[39m][itile]),\n\u001b[1;32m     25\u001b[0m     keep_transform_keys\u001b[38;5;241m=\u001b[39m\u001b[38;5;28;01mTrue\u001b[39;00m)\n\u001b[1;32m     26\u001b[0m         \u001b[38;5;28;01mfor\u001b[39;00m itile \u001b[38;5;129;01min\u001b[39;00m \u001b[38;5;28mrange\u001b[39m(\u001b[38;5;28mlen\u001b[39m(simss[\u001b[38;5;241m0\u001b[39m]))]\n\u001b[1;32m     27\u001b[0m         \u001b[38;5;28;01mfor\u001b[39;00m iseq \u001b[38;5;129;01min\u001b[39;00m \u001b[38;5;28mrange\u001b[39m(\u001b[38;5;28mlen\u001b[39m(simss))]\n\u001b[1;32m     29\u001b[0m sims \u001b[38;5;241m=\u001b[39m [xr\u001b[38;5;241m.\u001b[39mconcat([simss[iseq][itile] \u001b[38;5;28;01mfor\u001b[39;00m iseq \u001b[38;5;129;01min\u001b[39;00m \u001b[38;5;28mrange\u001b[39m(\u001b[38;5;28mlen\u001b[39m(simss))], dim\u001b[38;5;241m=\u001b[39m\u001b[38;5;124m'\u001b[39m\u001b[38;5;124mt\u001b[39m\u001b[38;5;124m'\u001b[39m) \u001b[38;5;28;01mfor\u001b[39;00m itile \u001b[38;5;129;01min\u001b[39;00m \u001b[38;5;28mrange\u001b[39m(\u001b[38;5;28mlen\u001b[39m(simss[\u001b[38;5;241m0\u001b[39m]))]\n\u001b[1;32m     30\u001b[0m sims \u001b[38;5;241m=\u001b[39m [sim\u001b[38;5;241m.\u001b[39massign_coords({\u001b[38;5;124m'\u001b[39m\u001b[38;5;124mt\u001b[39m\u001b[38;5;124m'\u001b[39m: \u001b[38;5;28mrange\u001b[39m(\u001b[38;5;28mlen\u001b[39m(sim\u001b[38;5;241m.\u001b[39mcoords[\u001b[38;5;124m'\u001b[39m\u001b[38;5;124mt\u001b[39m\u001b[38;5;124m'\u001b[39m]))}) \u001b[38;5;28;01mfor\u001b[39;00m sim \u001b[38;5;129;01min\u001b[39;00m sims]\n",
      "Cell \u001b[0;32mIn[4], line 22\u001b[0m, in \u001b[0;36m<listcomp>\u001b[0;34m(.0)\u001b[0m\n\u001b[1;32m     19\u001b[0m simss\u001b[38;5;241m.\u001b[39mappend(sims)\n\u001b[1;32m     21\u001b[0m \u001b[38;5;66;03m# transform all input files so that they have the same stack properties (spacing, shape, origin) of the first file\u001b[39;00m\n\u001b[0;32m---> 22\u001b[0m simss \u001b[38;5;241m=\u001b[39m [[transformation\u001b[38;5;241m.\u001b[39mtransform_sim(\n\u001b[1;32m     23\u001b[0m     simss[iseq][itile],\n\u001b[1;32m     24\u001b[0m     output_stack_properties\u001b[38;5;241m=\u001b[39mspatial_image_utils\u001b[38;5;241m.\u001b[39mget_stack_properties_from_sim(simss[\u001b[38;5;241m0\u001b[39m][itile]),\n\u001b[1;32m     25\u001b[0m     keep_transform_keys\u001b[38;5;241m=\u001b[39m\u001b[38;5;28;01mTrue\u001b[39;00m)\n\u001b[1;32m     26\u001b[0m         \u001b[38;5;28;01mfor\u001b[39;00m itile \u001b[38;5;129;01min\u001b[39;00m \u001b[38;5;28mrange\u001b[39m(\u001b[38;5;28mlen\u001b[39m(simss[\u001b[38;5;241m0\u001b[39m]))]\n\u001b[1;32m     27\u001b[0m         \u001b[38;5;28;01mfor\u001b[39;00m iseq \u001b[38;5;129;01min\u001b[39;00m \u001b[38;5;28mrange\u001b[39m(\u001b[38;5;28mlen\u001b[39m(simss))]\n\u001b[1;32m     29\u001b[0m sims \u001b[38;5;241m=\u001b[39m [xr\u001b[38;5;241m.\u001b[39mconcat([simss[iseq][itile] \u001b[38;5;28;01mfor\u001b[39;00m iseq \u001b[38;5;129;01min\u001b[39;00m \u001b[38;5;28mrange\u001b[39m(\u001b[38;5;28mlen\u001b[39m(simss))], dim\u001b[38;5;241m=\u001b[39m\u001b[38;5;124m'\u001b[39m\u001b[38;5;124mt\u001b[39m\u001b[38;5;124m'\u001b[39m) \u001b[38;5;28;01mfor\u001b[39;00m itile \u001b[38;5;129;01min\u001b[39;00m \u001b[38;5;28mrange\u001b[39m(\u001b[38;5;28mlen\u001b[39m(simss[\u001b[38;5;241m0\u001b[39m]))]\n\u001b[1;32m     30\u001b[0m sims \u001b[38;5;241m=\u001b[39m [sim\u001b[38;5;241m.\u001b[39massign_coords({\u001b[38;5;124m'\u001b[39m\u001b[38;5;124mt\u001b[39m\u001b[38;5;124m'\u001b[39m: \u001b[38;5;28mrange\u001b[39m(\u001b[38;5;28mlen\u001b[39m(sim\u001b[38;5;241m.\u001b[39mcoords[\u001b[38;5;124m'\u001b[39m\u001b[38;5;124mt\u001b[39m\u001b[38;5;124m'\u001b[39m]))}) \u001b[38;5;28;01mfor\u001b[39;00m sim \u001b[38;5;129;01min\u001b[39;00m sims]\n",
      "Cell \u001b[0;32mIn[4], line 22\u001b[0m, in \u001b[0;36m<listcomp>\u001b[0;34m(.0)\u001b[0m\n\u001b[1;32m     19\u001b[0m simss\u001b[38;5;241m.\u001b[39mappend(sims)\n\u001b[1;32m     21\u001b[0m \u001b[38;5;66;03m# transform all input files so that they have the same stack properties (spacing, shape, origin) of the first file\u001b[39;00m\n\u001b[0;32m---> 22\u001b[0m simss \u001b[38;5;241m=\u001b[39m [[\u001b[43mtransformation\u001b[49m\u001b[38;5;241;43m.\u001b[39;49m\u001b[43mtransform_sim\u001b[49m\u001b[43m(\u001b[49m\n\u001b[1;32m     23\u001b[0m \u001b[43m    \u001b[49m\u001b[43msimss\u001b[49m\u001b[43m[\u001b[49m\u001b[43miseq\u001b[49m\u001b[43m]\u001b[49m\u001b[43m[\u001b[49m\u001b[43mitile\u001b[49m\u001b[43m]\u001b[49m\u001b[43m,\u001b[49m\n\u001b[1;32m     24\u001b[0m \u001b[43m    \u001b[49m\u001b[43moutput_stack_properties\u001b[49m\u001b[38;5;241;43m=\u001b[39;49m\u001b[43mspatial_image_utils\u001b[49m\u001b[38;5;241;43m.\u001b[39;49m\u001b[43mget_stack_properties_from_sim\u001b[49m\u001b[43m(\u001b[49m\u001b[43msimss\u001b[49m\u001b[43m[\u001b[49m\u001b[38;5;241;43m0\u001b[39;49m\u001b[43m]\u001b[49m\u001b[43m[\u001b[49m\u001b[43mitile\u001b[49m\u001b[43m]\u001b[49m\u001b[43m)\u001b[49m\u001b[43m,\u001b[49m\n\u001b[1;32m     25\u001b[0m \u001b[43m    \u001b[49m\u001b[43mkeep_transform_keys\u001b[49m\u001b[38;5;241;43m=\u001b[39;49m\u001b[38;5;28;43;01mTrue\u001b[39;49;00m\u001b[43m)\u001b[49m\n\u001b[1;32m     26\u001b[0m         \u001b[38;5;28;01mfor\u001b[39;00m itile \u001b[38;5;129;01min\u001b[39;00m \u001b[38;5;28mrange\u001b[39m(\u001b[38;5;28mlen\u001b[39m(simss[\u001b[38;5;241m0\u001b[39m]))]\n\u001b[1;32m     27\u001b[0m         \u001b[38;5;28;01mfor\u001b[39;00m iseq \u001b[38;5;129;01min\u001b[39;00m \u001b[38;5;28mrange\u001b[39m(\u001b[38;5;28mlen\u001b[39m(simss))]\n\u001b[1;32m     29\u001b[0m sims \u001b[38;5;241m=\u001b[39m [xr\u001b[38;5;241m.\u001b[39mconcat([simss[iseq][itile] \u001b[38;5;28;01mfor\u001b[39;00m iseq \u001b[38;5;129;01min\u001b[39;00m \u001b[38;5;28mrange\u001b[39m(\u001b[38;5;28mlen\u001b[39m(simss))], dim\u001b[38;5;241m=\u001b[39m\u001b[38;5;124m'\u001b[39m\u001b[38;5;124mt\u001b[39m\u001b[38;5;124m'\u001b[39m) \u001b[38;5;28;01mfor\u001b[39;00m itile \u001b[38;5;129;01min\u001b[39;00m \u001b[38;5;28mrange\u001b[39m(\u001b[38;5;28mlen\u001b[39m(simss[\u001b[38;5;241m0\u001b[39m]))]\n\u001b[1;32m     30\u001b[0m sims \u001b[38;5;241m=\u001b[39m [sim\u001b[38;5;241m.\u001b[39massign_coords({\u001b[38;5;124m'\u001b[39m\u001b[38;5;124mt\u001b[39m\u001b[38;5;124m'\u001b[39m: \u001b[38;5;28mrange\u001b[39m(\u001b[38;5;28mlen\u001b[39m(sim\u001b[38;5;241m.\u001b[39mcoords[\u001b[38;5;124m'\u001b[39m\u001b[38;5;124mt\u001b[39m\u001b[38;5;124m'\u001b[39m]))}) \u001b[38;5;28;01mfor\u001b[39;00m sim \u001b[38;5;129;01min\u001b[39;00m sims]\n",
      "File \u001b[0;32m~/miniforge3/envs/nap_stitch_dev/lib/python3.10/site-packages/multiview_stitcher/transformation.py:69\u001b[0m, in \u001b[0;36mtransform_sim\u001b[0;34m(sim, p, output_stack_properties, order, cval, keep_transform_keys)\u001b[0m\n\u001b[1;32m     57\u001b[0m affine_transform_kwargs \u001b[38;5;241m=\u001b[39m {\n\u001b[1;32m     58\u001b[0m     \u001b[38;5;124m\"\u001b[39m\u001b[38;5;124mmatrix\u001b[39m\u001b[38;5;124m\"\u001b[39m: matrix_prime,\n\u001b[1;32m     59\u001b[0m     \u001b[38;5;124m\"\u001b[39m\u001b[38;5;124moffset\u001b[39m\u001b[38;5;124m\"\u001b[39m: offset_prime,\n\u001b[0;32m   (...)\u001b[0m\n\u001b[1;32m     65\u001b[0m     \u001b[38;5;124m\"\u001b[39m\u001b[38;5;124mcval\u001b[39m\u001b[38;5;124m\"\u001b[39m: cval,\n\u001b[1;32m     66\u001b[0m }\n\u001b[1;32m     68\u001b[0m \u001b[38;5;28;01mif\u001b[39;00m \u001b[38;5;28misinstance\u001b[39m(sim\u001b[38;5;241m.\u001b[39mdata, da\u001b[38;5;241m.\u001b[39mcore\u001b[38;5;241m.\u001b[39mArray):\n\u001b[0;32m---> 69\u001b[0m     out_data \u001b[38;5;241m=\u001b[39m \u001b[43mdask_image_affine_transform\u001b[49m\u001b[43m(\u001b[49m\n\u001b[1;32m     70\u001b[0m \u001b[43m        \u001b[49m\u001b[43msim\u001b[49m\u001b[38;5;241;43m.\u001b[39;49m\u001b[43mdata\u001b[49m\u001b[43m,\u001b[49m\n\u001b[1;32m     71\u001b[0m \u001b[43m        \u001b[49m\u001b[38;5;241;43m*\u001b[39;49m\u001b[38;5;241;43m*\u001b[39;49m\u001b[43maffine_transform_kwargs\u001b[49m\u001b[43m,\u001b[49m\n\u001b[1;32m     72\u001b[0m \u001b[43m    \u001b[49m\u001b[43m)\u001b[49m\n\u001b[1;32m     73\u001b[0m \u001b[38;5;28;01melse\u001b[39;00m:\n\u001b[1;32m     74\u001b[0m     out_data \u001b[38;5;241m=\u001b[39m affine_transform(\n\u001b[1;32m     75\u001b[0m         sim\u001b[38;5;241m.\u001b[39mdata,\n\u001b[1;32m     76\u001b[0m         \u001b[38;5;241m*\u001b[39m\u001b[38;5;241m*\u001b[39maffine_transform_kwargs,\n\u001b[1;32m     77\u001b[0m     )\n",
      "File \u001b[0;32m~/miniforge3/envs/nap_stitch_dev/lib/python3.10/site-packages/dask_image/ndinterp/__init__.py:93\u001b[0m, in \u001b[0;36maffine_transform\u001b[0;34m(image, matrix, offset, output_shape, order, output_chunks, **kwargs)\u001b[0m\n\u001b[1;32m     90\u001b[0m     output_chunks \u001b[38;5;241m=\u001b[39m image\u001b[38;5;241m.\u001b[39mshape\n\u001b[1;32m     92\u001b[0m \u001b[38;5;66;03m# Perform test run to ensure parameter validity.\u001b[39;00m\n\u001b[0;32m---> 93\u001b[0m \u001b[43mndimage_affine_transform\u001b[49m\u001b[43m(\u001b[49m\u001b[43mnp\u001b[49m\u001b[38;5;241;43m.\u001b[39;49m\u001b[43mzeros\u001b[49m\u001b[43m(\u001b[49m\u001b[43m[\u001b[49m\u001b[38;5;241;43m0\u001b[39;49m\u001b[43m]\u001b[49m\u001b[43m \u001b[49m\u001b[38;5;241;43m*\u001b[39;49m\u001b[43m \u001b[49m\u001b[43mimage\u001b[49m\u001b[38;5;241;43m.\u001b[39;49m\u001b[43mndim\u001b[49m\u001b[43m)\u001b[49m\u001b[43m,\u001b[49m\n\u001b[1;32m     94\u001b[0m \u001b[43m                         \u001b[49m\u001b[43mmatrix\u001b[49m\u001b[43m,\u001b[49m\n\u001b[1;32m     95\u001b[0m \u001b[43m                         \u001b[49m\u001b[43moffset\u001b[49m\u001b[43m)\u001b[49m\n\u001b[1;32m     97\u001b[0m \u001b[38;5;66;03m# Make sure parameters contained in matrix and offset\u001b[39;00m\n\u001b[1;32m     98\u001b[0m \u001b[38;5;66;03m# are not overlapping, i.e. that the offset is valid as\u001b[39;00m\n\u001b[1;32m     99\u001b[0m \u001b[38;5;66;03m# it needs to be modified for each chunk.\u001b[39;00m\n\u001b[1;32m    100\u001b[0m \u001b[38;5;66;03m# Further parameter checks are performed directly by\u001b[39;00m\n\u001b[1;32m    101\u001b[0m \u001b[38;5;66;03m# `ndimage.affine_transform`.\u001b[39;00m\n\u001b[1;32m    103\u001b[0m matrix \u001b[38;5;241m=\u001b[39m np\u001b[38;5;241m.\u001b[39masarray(matrix)\n",
      "File \u001b[0;32m~/miniforge3/envs/nap_stitch_dev/lib/python3.10/site-packages/scipy/ndimage/_interpolation.py:607\u001b[0m, in \u001b[0;36maffine_transform\u001b[0;34m(input, matrix, offset, output_shape, output, order, mode, cval, prefilter)\u001b[0m\n\u001b[1;32m    605\u001b[0m     matrix \u001b[38;5;241m=\u001b[39m matrix[:\u001b[38;5;28minput\u001b[39m\u001b[38;5;241m.\u001b[39mndim, :\u001b[38;5;28minput\u001b[39m\u001b[38;5;241m.\u001b[39mndim]\n\u001b[1;32m    606\u001b[0m \u001b[38;5;28;01mif\u001b[39;00m matrix\u001b[38;5;241m.\u001b[39mshape[\u001b[38;5;241m0\u001b[39m] \u001b[38;5;241m!=\u001b[39m \u001b[38;5;28minput\u001b[39m\u001b[38;5;241m.\u001b[39mndim:\n\u001b[0;32m--> 607\u001b[0m     \u001b[38;5;28;01mraise\u001b[39;00m \u001b[38;5;167;01mRuntimeError\u001b[39;00m(\u001b[38;5;124m'\u001b[39m\u001b[38;5;124maffine matrix has wrong number of rows\u001b[39m\u001b[38;5;124m'\u001b[39m)\n\u001b[1;32m    608\u001b[0m \u001b[38;5;28;01mif\u001b[39;00m matrix\u001b[38;5;241m.\u001b[39mndim \u001b[38;5;241m==\u001b[39m \u001b[38;5;241m2\u001b[39m \u001b[38;5;129;01mand\u001b[39;00m matrix\u001b[38;5;241m.\u001b[39mshape[\u001b[38;5;241m1\u001b[39m] \u001b[38;5;241m!=\u001b[39m output\u001b[38;5;241m.\u001b[39mndim:\n\u001b[1;32m    609\u001b[0m     \u001b[38;5;28;01mraise\u001b[39;00m \u001b[38;5;167;01mRuntimeError\u001b[39;00m(\u001b[38;5;124m'\u001b[39m\u001b[38;5;124maffine matrix has wrong number of columns\u001b[39m\u001b[38;5;124m'\u001b[39m)\n",
      "\u001b[0;31mRuntimeError\u001b[0m: affine matrix has wrong number of rows"
     ]
    }
   ],
   "source": [
    "# previous loading data cell\n",
    "\n",
    "\n",
    "# # output file\n",
    "# output_tif = osp.join(datadir,out_fn_wid.value)  # type in the output file\n",
    "# print(\"Output file: \",output_tif)\n",
    "# temp_dir = tempfile.TemporaryDirectory(dir=datadir)\n",
    "# output_filename = Path(osp.join(temp_dir.name,'concat'))\n",
    "\n",
    "# # concatenate files together\n",
    "# print(\"Concatenating: \",file_list_wid.value)\n",
    "\n",
    "# #### change here to fix a dataset-specific bug/ to return to the normal behavior, uncomment the next line and comment the following block\n",
    "# #simss = [io.read_mosaic_image_into_list_of_spatial_xarrays(filename, scene_index=0) for filename in file_list_wid.value]\n",
    "# ### comment the block below to restore the normal behavior\n",
    "# simss = []\n",
    "# for filename in file_list_wid.value:\n",
    "#     sims = io.read_mosaic_image_into_list_of_spatial_xarrays(filename, scene_index=0)\n",
    "#     # move tile tiles 2 and 3 up by 70 pixels\n",
    "#     for itile in [2, 3]:\n",
    "#        sims[itile] = sims[itile].assign_coords(y= sims[itile].y.values + spatial_image_utils.get_spacing_from_sim(sims[itile])['y'] * 70)\n",
    "# simss.append(sims)\n",
    " \n",
    "# # transform all input files so that they have the same stack properties (spacing, shape, origin) of the first file\n",
    "# simss = [[transformation.transform_sim(\n",
    "#     simss[iseq][itile],\n",
    "#     output_stack_properties=spatial_image_utils.get_stack_properties_from_sim(simss[0][itile]),\n",
    "#     keep_transform_keys=True)\n",
    "#         for itile in range(len(simss[0]))]\n",
    "#         for iseq in range(len(simss))]\n",
    " \n",
    "# sims = [xr.concat([simss[iseq][itile] for iseq in range(len(simss))], dim='t') for itile in range(len(simss[0]))]\n",
    "# sims = [sim.assign_coords({'t': range(len(sim.coords['t']))}) for sim in sims]\n",
    "\n",
    "# # # restrict time points for testing\n",
    "# # sims = [si_utils.sim_sel_coords(sim, {'t': slice(0, 3)}) for sim in sims]\n",
    "\n",
    "# # bin input\n",
    "# #sims = [sim.coarsen({'x': 2, 'y': 2}, boundary='trim').mean().astype(sim.data.dtype) for sim in sims]\n",
    "\n",
    "# #for itile in range(len(sims[:])):\n",
    "# #    sims[itile].attrs['transforms']['affine_metadata'] = \\\n",
    "# #        xr.concat([sims[itile].attrs['transforms']['affine_metadata'][0]] * len(sims[0].coords['t']), dim='t')\n",
    "\n",
    "# print('Convert input into chunked zarr arrays...')\n",
    "# msims = [msi_utils.get_store_decorator(\n",
    "#     output_filename.with_suffix('.tile%03d.zarr' %isim), store_overwrite=True)(\n",
    "#         msi_utils.get_msim_from_sim)(sim, [])\n",
    "#     for isim, sim in tqdm(enumerate(sims), total=len(sims),colour=\"green\",file=sys.stdout,)]"
   ]
  },
  {
   "cell_type": "markdown",
   "metadata": {},
   "source": [
    "# Inspect quality and shifts of pairwise registrations"
   ]
  },
  {
   "cell_type": "code",
   "execution_count": 19,
   "metadata": {},
   "outputs": [
    {
     "name": "stdout",
     "output_type": "stream",
     "text": [
      "[########################################] | 100% Completed | 2.61 ss\n",
      "[########################################] | 100% Completed | 45.60 ss\n"
     ]
    }
   ],
   "source": [
    "fn = file_list_wid.value[0]\n",
    "#fn = \"../image-datasets/arthur_20220621_premovie_dish2-max.czi\"\n",
    "\n",
    "sims = io.read_mosaic_image_into_list_of_spatial_xarrays(fn, scene_index=0)\n",
    "msims = [msi_utils.get_msim_from_sim(sim, scale_factors=[]) for sim in sims]\n",
    "\n",
    "reg_channel_index = 0\n",
    "transform_key = io.METADATA_TRANSFORM_KEY\n",
    "new_transform_key = \"affine_registered\"\n",
    "pairs = None\n",
    "registration_binning = None\n",
    "use_only_overlap_region = True\n",
    "pairwise_reg_func = registration.phase_correlation_registration\n",
    "pre_registration_pruning_method = None\n",
    "\n",
    "with dask.diagnostics.ProgressBar():\n",
    "    msims_reg = [\n",
    "        msi_utils.multiscale_sel_coords(\n",
    "            msim, {\"c\": sims[imsim].coords[\"c\"][reg_channel_index]})\n",
    "        if \"c\" in msi_utils.get_dims(msim)\n",
    "        else msim\n",
    "        for imsim, msim in enumerate(msims)]\n",
    "\n",
    "    g = mv_graph.build_view_adjacency_graph_from_msims(\n",
    "        msims_reg,\n",
    "        transform_key=transform_key,\n",
    "        pairs=pairs,\n",
    "    )\n",
    "\n",
    "    if pre_registration_pruning_method is not None:\n",
    "        g_reg = mv_graph.prune_view_adjacency_graph(\n",
    "            g,\n",
    "            method=pre_registration_pruning_method,\n",
    "        )\n",
    "    else:\n",
    "        g_reg = g\n",
    "\n",
    "    g_reg_computed = registration.compute_pairwise_registrations(\n",
    "        msims_reg,\n",
    "        g_reg,\n",
    "        transform_key=transform_key,\n",
    "        registration_binning=registration_binning,\n",
    "        use_only_overlap_region=use_only_overlap_region,\n",
    "        pairwise_reg_func=pairwise_reg_func,\n",
    "        pairwise_reg_func_kwargs={},\n",
    "    )\n"
   ]
  },
  {
   "cell_type": "markdown",
   "metadata": {},
   "source": [
    "## Visualize quality at a given tp\n"
   ]
  },
  {
   "cell_type": "code",
   "execution_count": 20,
   "metadata": {},
   "outputs": [
    {
     "data": {
      "image/png": "[encoded data removed]",
      "text/plain": [
       "<Figure size 640x480 with 2 Axes>"
      ]
     },
     "metadata": {},
     "output_type": "display_data"
    }
   ],
   "source": [
    "import networkx as nx\n",
    "from matplotlib import colormaps as cm\n",
    "\n",
    "edges_df = nx.to_pandas_edgelist(g_reg_computed)\n",
    "\n",
    "tp_to_show = 10\n",
    "\n",
    "edges = list(g_reg.edges())\n",
    "edge_vals = np.array([g_reg_computed.get_edge_data(*e)['quality'][tp_to_show] for e in edges])\n",
    "fig, ax = vis_utils.plot_positions(\n",
    "    msims,\n",
    "    transform_key=transform_key,\n",
    "    edges=edges,\n",
    "    edge_color_vals=edge_vals,\n",
    "    edge_cmap=cm.get_cmap('viridis_r'),\n",
    "    # edge_clims=[0,1],\n",
    "    edge_label=\"quality\",\n",
    "    display_view_indices=True,\n",
    "    use_positional_colors=False,\n",
    "    )"
   ]
  },
  {
   "cell_type": "markdown",
   "metadata": {},
   "source": [
    "## Visualize shift at a given tp"
   ]
  },
  {
   "cell_type": "code",
   "execution_count": 21,
   "metadata": {},
   "outputs": [
    {
     "data": {
      "image/png": "[encoded data removed]",
      "text/plain": [
       "<Figure size 640x480 with 2 Axes>"
      ]
     },
     "metadata": {},
     "output_type": "display_data"
    }
   ],
   "source": [
    "import networkx as nx\n",
    "from matplotlib import colormaps as cm\n",
    "\n",
    "edges_df = nx.to_pandas_edgelist(g_reg_computed)\n",
    "\n",
    "tp_to_show = 10\n",
    "\n",
    "edges = list(g_reg.edges())\n",
    "# edge_vals = np.array([min(g_reg_computed.get_edge_data(*e)['quality']) for e in edges])\n",
    "# edge_vals = np.array([g_reg_computed.get_edge_data(*e)['quality'][tp_to_show] for e in edges])\n",
    "edge_vals = [np.mean(np.linalg.norm(es['transform'][:, :2, 2], axis=-1)) for ie, es in edges_df.iterrows()]\n",
    "fig, ax = vis_utils.plot_positions(\n",
    "    msims,\n",
    "    transform_key=transform_key,\n",
    "    edges=edges,\n",
    "    edge_color_vals=edge_vals,\n",
    "    edge_cmap=cm.get_cmap('viridis_r'),\n",
    "    # edge_clims=[0,1],\n",
    "    edge_label=\"shift\",\n",
    "    display_view_indices=True,\n",
    "    use_positional_colors=False,\n",
    "    )"
   ]
  },
  {
   "cell_type": "markdown",
   "metadata": {},
   "source": [
    "## Visualize quality over time"
   ]
  },
  {
   "cell_type": "code",
   "execution_count": 22,
   "metadata": {},
   "outputs": [
    {
     "data": {
      "text/plain": [
       "Text(0, 0.5, 'Pairwise registration quality')"
      ]
     },
     "execution_count": 22,
     "metadata": {},
     "output_type": "execute_result"
    },
    {
     "data": {
      "image/png": "[encoded data removed]",
      "text/plain": [
       "<Figure size 640x480 with 1 Axes>"
      ]
     },
     "metadata": {},
     "output_type": "display_data"
    }
   ],
   "source": [
    "from matplotlib import pyplot as plt\n",
    "edges_df = nx.to_pandas_edgelist(g_reg_computed)\n",
    "\n",
    "\n",
    "plt.figure()\n",
    "for ir, es in edges_df.iterrows():\n",
    "    data = es['quality']\n",
    "    plt.plot(data, label=f'{es[\"source\"]} -> {es[\"target\"]}')\n",
    "plt.legend()\n",
    "plt.xlabel('Time')\n",
    "plt.ylabel('Pairwise registration quality')"
   ]
  },
  {
   "cell_type": "markdown",
   "metadata": {},
   "source": [
    "## Visualize shift over time"
   ]
  },
  {
   "cell_type": "code",
   "execution_count": 23,
   "metadata": {},
   "outputs": [
    {
     "data": {
      "text/plain": [
       "Text(0, 0.5, 'Registration shift [um]')"
      ]
     },
     "execution_count": 23,
     "metadata": {},
     "output_type": "execute_result"
    },
    {
     "data": {
      "image/png": "[encoded data removed]",
      "text/plain": [
       "<Figure size 640x480 with 1 Axes>"
      ]
     },
     "metadata": {},
     "output_type": "display_data"
    }
   ],
   "source": [
    "\n",
    "edges_df = nx.to_pandas_edgelist(g_reg_computed)\n",
    "\n",
    "plt.figure()\n",
    "for ir, es in edges_df.iterrows():\n",
    "    timecourse = np.linalg.norm(es['transform'][:, :2, 2], axis=-1)\n",
    "    plt.plot(timecourse, label=f'{es[\"source\"]} -> {es[\"target\"]}')\n",
    "#     plt.plot(es['quality'], label=f'{es[\"source\"]} -> {es[\"target\"]}')\n",
    "plt.legend()\n",
    "plt.xlabel('Time')\n",
    "plt.ylabel('Registration shift [um]')"
   ]
  },
  {
   "cell_type": "markdown",
   "metadata": {},
   "source": [
    "## Filter pairwise registrations by quality\n",
    "\n",
    "(20240223: this needs to be checked improved)"
   ]
  },
  {
   "cell_type": "code",
   "execution_count": 116,
   "metadata": {},
   "outputs": [],
   "source": [
    "post_registration_do_quality_filter = True\n",
    "post_registration_quality_threshold = 0.3\n",
    "\n",
    "if post_registration_do_quality_filter:\n",
    "    # filter edges by quality\n",
    "    g_reg_computed = mv_graph.filter_edges(\n",
    "        g_reg_computed,\n",
    "        threshold=post_registration_quality_threshold,\n",
    "        weight_key=\"quality\",\n",
    "    )\n",
    "\n",
    "params = registration.get_node_params_from_reg_graph(g_reg_computed)\n",
    "params = [params[iview] for iview in sorted(g_reg_computed.nodes())]\n",
    "\n",
    "if new_transform_key is not None:\n",
    "    for imsim, msim in enumerate(msims):\n",
    "        msi_utils.set_affine_transform(\n",
    "            msim,\n",
    "            params[imsim],\n",
    "            transform_key=new_transform_key,\n",
    "            base_transform_key=transform_key,\n",
    "        )"
   ]
  },
  {
   "cell_type": "code",
   "execution_count": null,
   "metadata": {},
   "outputs": [],
   "source": []
  }
 ],
 "metadata": {
  "kernelspec": {
   "display_name": "Python 3 (ipykernel)",
   "language": "python",
   "name": "python3"
  },
  "language_info": {
   "codemirror_mode": {
    "name": "ipython",
    "version": 3
   },
   "file_extension": ".py",
   "mimetype": "text/x-python",
   "name": "python",
   "nbconvert_exporter": "python",
   "pygments_lexer": "ipython3",
   "version": "3.10.17"
  }
 },
 "nbformat": 4,
 "nbformat_minor": 4
}
