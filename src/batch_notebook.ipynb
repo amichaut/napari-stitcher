{
 "cells": [
  {
   "cell_type": "markdown",
   "metadata": {},
   "source": [
    "# Napari Stitcher batch notebook\n",
    "\n",
    "With this notebook, you can stitch multiple files, either independently or by concanetating them together. Files are stitched using the Napari Stitcher package. For more information, please read the [documentation](https://multiview-stitcher.github.io/napari-stitcher/main/). Please report any issue through [the project's repository](https://github.com/multiview-stitcher/napari-stitcher).\n",
    "\n",
    "To run this notebook, just follow the instructions by running the cells in the order. You will first load your data and select your stitching parameters. Then, you will choose between two independent sections depending on whether you want to process your files independently or to concatenate them together. \n"
   ]
  },
  {
   "cell_type": "code",
   "execution_count": null,
   "metadata": {},
   "outputs": [],
   "source": [
    "# import packages\n",
    "\n",
    "import sys\n",
    "import os, tempfile\n",
    "import os.path as osp\n",
    "\n",
    "import numpy as np\n",
    "from ipyfilechooser import FileChooser\n",
    "from IPython.display import Markdown\n",
    "import ipywidgets as widgets\n",
    "from ipywidgets import HBox, VBox, Label\n",
    "from pathlib import Path\n",
    "import xarray as xr\n",
    "import ngff_zarr\n",
    "from dask.diagnostics import ProgressBar\n",
    "from tqdm import tqdm\n",
    "\n",
    "from multiview_stitcher import (\n",
    "    registration,\n",
    "    fusion,\n",
    "    msi_utils,\n",
    "    io,\n",
    "    ngff_utils,\n",
    "    spatial_image_utils,\n",
    ")\n",
    "\n",
    "def printmd(string):\n",
    "    display(Markdown(string))\n",
    "\n"
   ]
  },
  {
   "cell_type": "markdown",
   "metadata": {},
   "source": [
    "## Load data and set stitching parameters"
   ]
  },
  {
   "cell_type": "markdown",
   "metadata": {},
   "source": [
    "### Get the list of files you want to stitch\n",
    "All the files need to be in the same folder. You can filter them based on their format and/or name."
   ]
  },
  {
   "cell_type": "code",
   "execution_count": 5,
   "metadata": {},
   "outputs": [
    {
     "data": {
      "text/markdown": [
       "**Choose a folder containing only the files you want to register**"
      ],
      "text/plain": [
       "<IPython.core.display.Markdown object>"
      ]
     },
     "metadata": {},
     "output_type": "display_data"
    },
    {
     "data": {
      "application/vnd.jupyter.widget-view+json": {
       "model_id": "8e09c61ae785456ab565dbe1c08e8862",
       "version_major": 2,
       "version_minor": 0
      },
      "text/plain": [
       "FileChooser(path='/Users/amichaut/Documents/Work/codes/napari-stitcher/src', filename='', title='', show_hidde…"
      ]
     },
     "metadata": {},
     "output_type": "display_data"
    },
    {
     "data": {
      "text/markdown": [
       "**Choose file format**"
      ],
      "text/plain": [
       "<IPython.core.display.Markdown object>"
      ]
     },
     "metadata": {},
     "output_type": "display_data"
    },
    {
     "data": {
      "application/vnd.jupyter.widget-view+json": {
       "model_id": "e76e5ad6fca249f786f902eab2f78532",
       "version_major": 2,
       "version_minor": 0
      },
      "text/plain": [
       "Text(value='.czi', description='File format:', placeholder='Type file format')"
      ]
     },
     "metadata": {},
     "output_type": "display_data"
    },
    {
     "data": {
      "text/markdown": [
       "**Filter files**"
      ],
      "text/plain": [
       "<IPython.core.display.Markdown object>"
      ]
     },
     "metadata": {},
     "output_type": "display_data"
    },
    {
     "data": {
      "application/vnd.jupyter.widget-view+json": {
       "model_id": "94e82148d9da4334930a8eeb8275d373",
       "version_major": 2,
       "version_minor": 0
      },
      "text/plain": [
       "Text(value='', description='Filter by:', placeholder='Type in filter')"
      ]
     },
     "metadata": {},
     "output_type": "display_data"
    }
   ],
   "source": [
    "# browse file system to dataset folder\n",
    "printmd(\"**Choose a folder containing only the files you want to register**\")\n",
    "\n",
    "fc = FileChooser()\n",
    "fc.use_dir_icons = True\n",
    "display(fc)\n",
    "\n",
    "printmd(\"**Choose file format**\")\n",
    "format_wid = widgets.Text(value='.czi',placeholder='Type file format',description='File format:')\n",
    "display(format_wid)\n",
    "\n",
    "printmd(\"**Filter files**\")\n",
    "filter_wid = widgets.Text(value='',placeholder='Type in filter',description='Filter by:')\n",
    "display(filter_wid)"
   ]
  },
  {
   "cell_type": "markdown",
   "metadata": {},
   "source": [
    "Select the files you want to stitch and define the name of the output filename ending (for files processed independently), or the full name of the output file (for concantenated files)."
   ]
  },
  {
   "cell_type": "code",
   "execution_count": 6,
   "metadata": {},
   "outputs": [
    {
     "data": {
      "text/markdown": [
       "**List of files (you can unselect them)**"
      ],
      "text/plain": [
       "<IPython.core.display.Markdown object>"
      ]
     },
     "metadata": {},
     "output_type": "display_data"
    },
    {
     "data": {
      "application/vnd.jupyter.widget-view+json": {
       "model_id": "ee5ca48d9af1439698c0eb214f94aab8",
       "version_major": 2,
       "version_minor": 0
      },
      "text/plain": [
       "SelectMultiple(description='File list', index=(0, 1), layout=Layout(width='initial'), options=('/Users/amichau…"
      ]
     },
     "metadata": {},
     "output_type": "display_data"
    },
    {
     "data": {
      "text/markdown": [
       "**Output filename for concatenated movies or file ending for multiple files**"
      ],
      "text/plain": [
       "<IPython.core.display.Markdown object>"
      ]
     },
     "metadata": {},
     "output_type": "display_data"
    },
    {
     "data": {
      "application/vnd.jupyter.widget-view+json": {
       "model_id": "53cb713838c44fb28646b03e2cf3f9e8",
       "version_major": 2,
       "version_minor": 0
      },
      "text/plain": [
       "Text(value='_stitched.tif', description='Filename:')"
      ]
     },
     "metadata": {},
     "output_type": "display_data"
    }
   ],
   "source": [
    "# filter files\n",
    "file_format = format_wid.value\n",
    "file_filter = filter_wid.value\n",
    "\n",
    "# get all full path of files in chosen folder\n",
    "datadir = fc.selected_path  # chosen foder\n",
    "file_list = os.listdir(datadir)  # list directory\n",
    "path_list = [osp.join(datadir,fn) for fn in file_list]  # full path list\n",
    "path_list = [fn for fn in path_list if not osp.isdir(fn)]  # keep only files\n",
    "if len(file_format) > 0:\n",
    "    path_list = [fn for fn in path_list if fn.endswith(file_format)]  # filter by file format\n",
    "if len(file_filter) > 0:\n",
    "    path_list = [fn for fn in path_list if file_filter in fn]  # filter by file format\n",
    "path_list.sort()\n",
    "\n",
    "printmd(\"**List of files (you can unselect them)**\")\n",
    "file_list_wid = widgets.SelectMultiple(options=path_list,value=path_list,description=\"File list\",layout={'width': 'initial'})\n",
    "display(file_list_wid)\n",
    "\n",
    "printmd(\"**Output filename for concatenated movies or file ending for multiple files**\")\n",
    "out_fn_wid = widgets.Text(value='_stitched.tif',description='Filename:')\n",
    "display(out_fn_wid)"
   ]
  },
  {
   "cell_type": "markdown",
   "metadata": {},
   "source": [
    "### Get stitching parameters"
   ]
  },
  {
   "cell_type": "code",
   "execution_count": 32,
   "metadata": {},
   "outputs": [
    {
     "data": {
      "text/markdown": [
       "**Choose registration channel**"
      ],
      "text/plain": [
       "<IPython.core.display.Markdown object>"
      ]
     },
     "metadata": {},
     "output_type": "display_data"
    },
    {
     "data": {
      "application/vnd.jupyter.widget-view+json": {
       "model_id": "1dcdaa08f5594db3bf6d1348741e2d66",
       "version_major": 2,
       "version_minor": 0
      },
      "text/plain": [
       "BoundedIntText(value=0, description='Channel index:', max=10, style=DescriptionStyle(description_width='initia…"
      ]
     },
     "metadata": {},
     "output_type": "display_data"
    },
    {
     "data": {
      "text/markdown": [
       "**Choose pre-registration pruning method**"
      ],
      "text/plain": [
       "<IPython.core.display.Markdown object>"
      ]
     },
     "metadata": {},
     "output_type": "display_data"
    },
    {
     "data": {
      "application/vnd.jupyter.widget-view+json": {
       "model_id": "8cc29ed0369f4afba65aaf04c0106f90",
       "version_major": 2,
       "version_minor": 0
      },
      "text/plain": [
       "Dropdown(description='Pruning method:', index=1, options=('none', 'keep_axis_aligned', 'alternating_pattern'),…"
      ]
     },
     "metadata": {},
     "output_type": "display_data"
    },
    {
     "data": {
      "text/markdown": [
       "**Choose binning factor**"
      ],
      "text/plain": [
       "<IPython.core.display.Markdown object>"
      ]
     },
     "metadata": {},
     "output_type": "display_data"
    },
    {
     "data": {
      "application/vnd.jupyter.widget-view+json": {
       "model_id": "dbad7559ef9445d79b9fda902b16fcd0",
       "version_major": 2,
       "version_minor": 0
      },
      "text/plain": [
       "HBox(children=(IntSlider(value=1, description='Binning factor along X:', max=10, min=1, style=SliderStyle(desc…"
      ]
     },
     "metadata": {},
     "output_type": "display_data"
    },
    {
     "data": {
      "text/markdown": [
       "**Choose post-registration quality threshold**"
      ],
      "text/plain": [
       "<IPython.core.display.Markdown object>"
      ]
     },
     "metadata": {},
     "output_type": "display_data"
    },
    {
     "data": {
      "application/vnd.jupyter.widget-view+json": {
       "model_id": "1d69d3e945724da08c19cdd4db209ba0",
       "version_major": 2,
       "version_minor": 0
      },
      "text/plain": [
       "VBox(children=(Checkbox(value=True, description='Use post-registration quality threshold', style=CheckboxStyle…"
      ]
     },
     "metadata": {},
     "output_type": "display_data"
    },
    {
     "data": {
      "text/markdown": [
       "**Choose time subset (in frames)**"
      ],
      "text/plain": [
       "<IPython.core.display.Markdown object>"
      ]
     },
     "metadata": {},
     "output_type": "display_data"
    },
    {
     "data": {
      "application/vnd.jupyter.widget-view+json": {
       "model_id": "0ce19b8fe6be4d2181719e21b6a855a0",
       "version_major": 2,
       "version_minor": 0
      },
      "text/plain": [
       "VBox(children=(Checkbox(value=False, description='Use time subset', style=CheckboxStyle(description_width='ini…"
      ]
     },
     "metadata": {},
     "output_type": "display_data"
    }
   ],
   "source": [
    "# get registration channel\n",
    "printmd(\"**Choose registration channel**\")\n",
    "reg_channel_wid = widgets.BoundedIntText(value=0,min=0,max=10,step=1,description='Channel index:', style={'description_width': 'initial'})\n",
    "display(reg_channel_wid)\n",
    "\n",
    "# get pre-registration pruning method\n",
    "printmd(\"**Choose pre-registration pruning method**\")\n",
    "pruning_method_wid = widgets.Dropdown(\n",
    "    options=['none', 'keep_axis_aligned', 'alternating_pattern'],\n",
    "    value='keep_axis_aligned',\n",
    "    description='Pruning method:',\n",
    "    style={'description_width': 'initial'}\n",
    ")\n",
    "display(pruning_method_wid)\n",
    "\n",
    "# get binning factor\n",
    "printmd(\"**Choose binning factor**\")\n",
    "binning_wid_x = widgets.IntSlider(value=1,min=1,max=10,step=1,description='Binning factor along X:',style={'description_width': 'initial'})\n",
    "binning_wid_y = widgets.IntSlider(value=1,min=1,max=10,step=1,description='Binning factor along Y:',style={'description_width': 'initial'})\n",
    "display(HBox([binning_wid_x, binning_wid_y]))\n",
    "\n",
    "# get post-registration quality threshold\n",
    "printmd(\"**Choose post-registration quality threshold**\")\n",
    "post_reg_quality_bool_wid = widgets.Checkbox(value=True,description='Use post-registration quality threshold',style={'description_width': 'initial'})\n",
    "post_reg_quality_val_wid = widgets.BoundedFloatText(value=0.2,min=0,max=1.0,step=0.01,description='Quality threshold:', style={'description_width': 'initial'})\n",
    "display(VBox([post_reg_quality_bool_wid, post_reg_quality_val_wid]))\n",
    "\n",
    "# get time subset\n",
    "printmd(\"**Choose time subset (in frames)**\")\n",
    "time_subset_bool_wid = widgets.Checkbox(value=False,description='Use time subset',style={'description_width': 'initial'})\n",
    "time_subset_wid_min = widgets.BoundedIntText(value=1,min=1,max=1000,step=1,description='Time subset min:', style={'description_width': 'initial'})\n",
    "time_subset_wid_max = widgets.BoundedIntText(value=1000,min=1,max=1000,step=1,description='Time subset max:', style={'description_width': 'initial'})\n",
    "display(VBox([time_subset_bool_wid,HBox([time_subset_wid_min, time_subset_wid_max])]))\n",
    "\n"
   ]
  },
  {
   "cell_type": "code",
   "execution_count": 33,
   "metadata": {},
   "outputs": [],
   "source": [
    "# retrieve stitching parameters\n",
    "reg_channel_index = reg_channel_wid.value\n",
    "pruning_method = pruning_method_wid.value if pruning_method_wid.value != 'none' else None\n",
    "binning = {'x':binning_wid_x.value, 'y':binning_wid_y.value}\n",
    "post_reg_quality_bool = post_reg_quality_bool_wid.value\n",
    "post_reg_quality_val = post_reg_quality_val_wid.value\n",
    "time_subset_bool = time_subset_bool_wid.value\n",
    "time_subset = (time_subset_wid_min.value, time_subset_wid_max.value)\n"
   ]
  },
  {
   "cell_type": "markdown",
   "metadata": {
    "jp-MarkdownHeadingCollapsed": true
   },
   "source": [
    "## Stitch files independently"
   ]
  },
  {
   "cell_type": "code",
   "execution_count": null,
   "metadata": {},
   "outputs": [
    {
     "name": "stdout",
     "output_type": "stream",
     "text": [
      "processing /Users/amichaut/Desktop/nap-stitch/20250701/01_premovie-max-Scene-2-e2.czi (1/2)\n"
     ]
    },
    {
     "name": "stderr",
     "output_type": "stream",
     "text": [
      "/var/folders/7m/w68wq4ns2qqfjzx4jtn4lt640000gn/T/ipykernel_90229/2747960423.py:6: DeprecationWarning: read_mosaic_image_into_list_of_spatial_xarrays is deprecated. Use read_mosaic_into_sims instead.\n",
      "  for sim in io.read_mosaic_image_into_list_of_spatial_xarrays(fn, scene_index=0)]\n"
     ]
    },
    {
     "name": "stdout",
     "output_type": "stream",
     "text": [
      "[########################################] | 100% Completed | 2.82 ss\n",
      "[########################################] | 100% Completed | 5.97 sms\n",
      "Fusing views and saving output to /Users/amichaut/Desktop/nap-stitch/20250701/tmpo9samj1l/stitched.zarr...\n",
      "[########################################] | 100% Completed | 3.62 sms\n",
      "Streaming into /Users/amichaut/Desktop/nap-stitch/20250701/01_premovie-max-Scene-2-e2_stitched.tif...\n"
     ]
    },
    {
     "name": "stderr",
     "output_type": "stream",
     "text": [
      "  0%|          | 0/3 [00:00<?, ?it/s]"
     ]
    },
    {
     "name": "stdout",
     "output_type": "stream",
     "text": [
      "[########################################] | 100% Completed | 106.95 ms\n"
     ]
    },
    {
     "name": "stderr",
     "output_type": "stream",
     "text": [
      " 33%|███▎      | 1/3 [00:00<00:00,  8.41it/s]"
     ]
    },
    {
     "name": "stdout",
     "output_type": "stream",
     "text": [
      "[########################################] | 100% Completed | 106.90 ms\n"
     ]
    },
    {
     "name": "stderr",
     "output_type": "stream",
     "text": [
      " 67%|██████▋   | 2/3 [00:00<00:00,  8.37it/s]"
     ]
    },
    {
     "name": "stdout",
     "output_type": "stream",
     "text": [
      "[########################################] | 100% Completed | 107.03 ms\n"
     ]
    },
    {
     "name": "stderr",
     "output_type": "stream",
     "text": [
      "100%|██████████| 3/3 [00:00<00:00,  8.36it/s]"
     ]
    },
    {
     "name": "stdout",
     "output_type": "stream",
     "text": [
      "processing /Users/amichaut/Desktop/nap-stitch/20250701/03_premovie_oil-max-Scene-2-e2.czi (2/2)\n"
     ]
    },
    {
     "name": "stderr",
     "output_type": "stream",
     "text": [
      "\n",
      "/var/folders/7m/w68wq4ns2qqfjzx4jtn4lt640000gn/T/ipykernel_90229/2747960423.py:6: DeprecationWarning: read_mosaic_image_into_list_of_spatial_xarrays is deprecated. Use read_mosaic_into_sims instead.\n",
      "  for sim in io.read_mosaic_image_into_list_of_spatial_xarrays(fn, scene_index=0)]\n"
     ]
    },
    {
     "name": "stdout",
     "output_type": "stream",
     "text": [
      "[########################################] | 100% Completed | 2.73 ss\n",
      "[########################################] | 100% Completed | 4.70 sms\n",
      "Fusing views and saving output to /Users/amichaut/Desktop/nap-stitch/20250701/tmps7yj8un4/stitched.zarr...\n",
      "[########################################] | 100% Completed | 3.50 sms\n",
      "Streaming into /Users/amichaut/Desktop/nap-stitch/20250701/03_premovie_oil-max-Scene-2-e2_stitched.tif...\n"
     ]
    },
    {
     "name": "stderr",
     "output_type": "stream",
     "text": [
      "  0%|          | 0/3 [00:00<?, ?it/s]"
     ]
    },
    {
     "name": "stdout",
     "output_type": "stream",
     "text": [
      "[########################################] | 100% Completed | 105.72 ms\n"
     ]
    },
    {
     "name": "stderr",
     "output_type": "stream",
     "text": [
      " 33%|███▎      | 1/3 [00:00<00:00,  8.59it/s]"
     ]
    },
    {
     "name": "stdout",
     "output_type": "stream",
     "text": [
      "[########################################] | 100% Completed | 219.57 ms\n"
     ]
    },
    {
     "name": "stderr",
     "output_type": "stream",
     "text": [
      " 67%|██████▋   | 2/3 [00:00<00:00,  5.32it/s]"
     ]
    },
    {
     "name": "stdout",
     "output_type": "stream",
     "text": [
      "[########################################] | 100% Completed | 105.20 ms\n"
     ]
    },
    {
     "name": "stderr",
     "output_type": "stream",
     "text": [
      "100%|██████████| 3/3 [00:00<00:00,  6.36it/s]\n"
     ]
    }
   ],
   "source": [
    "# process all files \n",
    "for i,fn in enumerate(file_list_wid.value): \n",
    "    print(\"processing {} ({}/{})\".format(fn,i+1,len(file_list_wid.value)))\n",
    "\n",
    "    msims = [msi_utils.get_msim_from_sim(sim, scale_factors=[])\n",
    "             for sim in io.read_mosaic_image_into_list_of_spatial_xarrays(fn, scene_index=0)]\n",
    "    \n",
    "    # filter by time subset\n",
    "    if time_subset_bool:\n",
    "        # subset time\n",
    "        msims = [msi_utils.multiscale_sel_coords(msim,\n",
    "                {'t': [msi_utils.get_sim_from_msim(msim).coords['t'][it]\n",
    "                         for it in range(time_subset[0],\n",
    "                                         time_subset[1] + 1)]})\n",
    "                  for msim in msims]\n",
    "\n",
    "    # register data\n",
    "    temp_dir = tempfile.TemporaryDirectory(dir=datadir)\n",
    "    with ProgressBar():\n",
    "\n",
    "        params = registration.register(\n",
    "            msims,\n",
    "            transform_key=io.METADATA_TRANSFORM_KEY,\n",
    "            new_transform_key='affine_registered',\n",
    "            reg_channel_index=reg_channel_index,\n",
    "            pre_registration_pruning_method=pruning_method,\n",
    "            registration_binning=binning,\n",
    "            post_registration_do_quality_filter=post_reg_quality_bool,\n",
    "            post_registration_quality_threshold=post_reg_quality_val,\n",
    "        )\n",
    "\n",
    "        fused_sim = fusion.fuse(\n",
    "            [msi_utils.get_sim_from_msim(msim) for msim in msims],\n",
    "            transform_key='affine_registered',\n",
    "            #output_chunksize=256,\n",
    "            )\n",
    "\n",
    "        fused_ngff_multiscales = ngff_zarr.to_multiscales(\n",
    "            ngff_utils.sim_to_ngff_image(\n",
    "                fused_sim,\n",
    "                transform_key='affine_registered'),\n",
    "                scale_factors=[])\n",
    "\n",
    "        output_filename = osp.join(temp_dir.name,'stitched.zarr')\n",
    "        print(f'Fusing views and saving output to {output_filename}...')\n",
    "        ngff_zarr.to_ngff_zarr(\n",
    "            output_filename,\n",
    "            fused_ngff_multiscales,\n",
    "            )\n",
    "\n",
    "        mfused = ngff_utils.ngff_multiscales_to_msim(\n",
    "            ngff_zarr.from_ngff_zarr(output_filename),\n",
    "            transform_key='affine_registered')\n",
    "\n",
    "        output_stitched_fn = fn[:-4]+out_fn_wid.value\n",
    "        print(f'Streaming into {output_stitched_fn}...')\n",
    "        io.save_sim_as_tif(\n",
    "            output_stitched_fn,\n",
    "            msi_utils.get_sim_from_msim(mfused))\n",
    "\n",
    "    # delete zarr files\n",
    "    temp_dir.cleanup()"
   ]
  },
  {
   "cell_type": "markdown",
   "metadata": {},
   "source": [
    "## Concatenate files together and stitch\n",
    "First, concatenate files as a zarr array saved in a temporary folder"
   ]
  },
  {
   "cell_type": "code",
   "execution_count": 34,
   "metadata": {},
   "outputs": [
    {
     "name": "stdout",
     "output_type": "stream",
     "text": [
      "Output file:  /Users/amichaut/Desktop/nap-stitch/20250701/_stitched.tif\n",
      "Concatenating:  ('/Users/amichaut/Desktop/nap-stitch/20250701/01_premovie-max-Scene-2-e2.czi', '/Users/amichaut/Desktop/nap-stitch/20250701/03_premovie_oil-max-Scene-2-e2.czi')\n"
     ]
    },
    {
     "name": "stderr",
     "output_type": "stream",
     "text": [
      "/var/folders/7m/w68wq4ns2qqfjzx4jtn4lt640000gn/T/ipykernel_90229/3676249633.py:10: DeprecationWarning: read_mosaic_image_into_list_of_spatial_xarrays is deprecated. Use read_mosaic_into_sims instead.\n",
      "  simss = [io.read_mosaic_image_into_list_of_spatial_xarrays(filename, scene_index=0) for filename in file_list_wid.value]\n",
      "/var/folders/7m/w68wq4ns2qqfjzx4jtn4lt640000gn/T/ipykernel_90229/3676249633.py:10: DeprecationWarning: read_mosaic_image_into_list_of_spatial_xarrays is deprecated. Use read_mosaic_into_sims instead.\n",
      "  simss = [io.read_mosaic_image_into_list_of_spatial_xarrays(filename, scene_index=0) for filename in file_list_wid.value]\n"
     ]
    },
    {
     "name": "stdout",
     "output_type": "stream",
     "text": [
      "Convert input into chunked zarr arrays...\n",
      "100%|\u001b[32m██████████\u001b[0m| 9/9 [00:01<00:00,  4.65it/s]\n"
     ]
    }
   ],
   "source": [
    "# output file\n",
    "output_tif = osp.join(datadir,out_fn_wid.value)  # type in the output file\n",
    "print(\"Output file: \",output_tif)\n",
    "temp_dir = tempfile.TemporaryDirectory(dir=datadir)\n",
    "output_filename = Path(osp.join(temp_dir.name,'concat'))\n",
    "\n",
    "# concatenate files together\n",
    "print(\"Concatenating: \",file_list_wid.value)\n",
    "\n",
    "simss = [io.read_mosaic_image_into_list_of_spatial_xarrays(filename, scene_index=0) for filename in file_list_wid.value]\n",
    " \n",
    "# transform all input files so that they have the same stack properties (spacing, shape, origin) of the first file\n",
    "simss = [[\n",
    "    # transformation.transform_sim(\n",
    "    fusion.fuse(\n",
    "    [simss[iseq][itile]],\n",
    "    transform_key=io.METADATA_TRANSFORM_KEY,\n",
    "    output_stack_properties=spatial_image_utils.get_stack_properties_from_sim(simss[0][itile]))\n",
    "        for itile in range(len(simss[0]))]\n",
    "        for iseq in range(len(simss))]\n",
    "\n",
    "sims = [xr.concat([simss[iseq][itile] for iseq in range(len(simss))], dim='t') for itile in range(len(simss[0]))]\n",
    "sims = [sim.assign_coords({'t': range(len(sim.coords['t']))}) for sim in sims]\n",
    "\n",
    "# filter by time subset\n",
    "if time_subset_bool:\n",
    "    sims = [spatial_image_utils.sim_sel_coords(sim, {'t': slice(time_subset[0] - 1, time_subset[1] - 1)}) for sim in sims]\n",
    "\n",
    "print('Convert input into chunked zarr arrays...')\n",
    "msims = [msi_utils.get_store_decorator(\n",
    "    output_filename.with_suffix('.tile%03d.zarr' %isim), store_overwrite=True)(\n",
    "        msi_utils.get_msim_from_sim)(sim, [])\n",
    "    for isim, sim in tqdm(enumerate(sims), total=len(sims),colour=\"green\",file=sys.stdout,)]"
   ]
  },
  {
   "cell_type": "markdown",
   "metadata": {},
   "source": [
    "Stitch concatenated data"
   ]
  },
  {
   "cell_type": "code",
   "execution_count": 35,
   "metadata": {},
   "outputs": [
    {
     "name": "stdout",
     "output_type": "stream",
     "text": [
      "Registering...\n",
      "[########################################] | 100% Completed | 2.90 ss\n",
      "[########################################] | 100% Completed | 6.78 ss\n",
      "Creating fusion graph...\n",
      "Creating multiscale output OME-Zarr...\n",
      "[########################################] | 100% Completed | 2.48 sms\n",
      "Saving to tif...\n"
     ]
    },
    {
     "name": "stderr",
     "output_type": "stream",
     "text": [
      "100%|██████████| 4/4 [00:00<00:00, 85.29it/s]\n"
     ]
    }
   ],
   "source": [
    "# perform registration\n",
    "# below you can change the registration binning\n",
    "\n",
    "print('Registering...')\n",
    "with ProgressBar():\n",
    "    params = registration.register(\n",
    "        msims[:],\n",
    "        transform_key='affine_metadata',\n",
    "        new_transform_key='affine_registered',\n",
    "        reg_channel_index=reg_channel_index,\n",
    "        pre_registration_pruning_method=pruning_method,\n",
    "        registration_binning=binning,\n",
    "        post_registration_do_quality_filter=post_reg_quality_bool,\n",
    "        post_registration_quality_threshold=post_reg_quality_val,\n",
    "        )\n",
    "\n",
    "for msim, param in zip(msims, params):\n",
    "    msi_utils.set_affine_transform(msim, param, transform_key='affine_registered', base_transform_key='affine_metadata')\n",
    "\n",
    "# perform the fusion\n",
    "print('Creating fusion graph...')\n",
    "with ProgressBar():\n",
    "    fused = fusion.fuse(\n",
    "        [msi_utils.get_sim_from_msim(msim) for msim in msims],\n",
    "        transform_key='affine_registered',\n",
    "        output_chunksize=1024,\n",
    "        )\n",
    "\n",
    "print('Creating multiscale output OME-Zarr...')\n",
    "with ProgressBar():\n",
    "    mfused = msi_utils.get_msim_from_sim(fused, scale_factors=[])\n",
    "    mfused.to_zarr(output_filename)\n",
    "\n",
    "mfused = msi_utils.multiscale_spatial_image_from_zarr(output_filename)\n",
    "\n",
    "# save fused output as tif file\n",
    "print('Saving to tif...')\n",
    "io.save_sim_as_tif(output_tif, mfused['scale0/image'])"
   ]
  },
  {
   "cell_type": "markdown",
   "metadata": {},
   "source": [
    "Clean temporay data"
   ]
  },
  {
   "cell_type": "code",
   "execution_count": 36,
   "metadata": {},
   "outputs": [],
   "source": [
    "# delete zarr files\n",
    "temp_dir.cleanup()"
   ]
  }
 ],
 "metadata": {
  "kernelspec": {
   "display_name": "nap_stitch_dev",
   "language": "python",
   "name": "python3"
  },
  "language_info": {
   "codemirror_mode": {
    "name": "ipython",
    "version": 3
   },
   "file_extension": ".py",
   "mimetype": "text/x-python",
   "name": "python",
   "nbconvert_exporter": "python",
   "pygments_lexer": "ipython3",
   "version": "3.10.17"
  }
 },
 "nbformat": 4,
 "nbformat_minor": 4
}
